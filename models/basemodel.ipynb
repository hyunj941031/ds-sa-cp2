{
  "nbformat": 4,
  "nbformat_minor": 0,
  "metadata": {
    "colab": {
      "provenance": [],
      "mount_file_id": "11awKLTGbubkrtcKt8LQ-ZW229-cMZZLC",
      "authorship_tag": "ABX9TyMsY0GdNmArueOXJlfK5+hZ",
      "include_colab_link": true
    },
    "kernelspec": {
      "name": "python3",
      "display_name": "Python 3"
    },
    "language_info": {
      "name": "python"
    }
  },
  "cells": [
    {
      "cell_type": "markdown",
      "metadata": {
        "id": "view-in-github",
        "colab_type": "text"
      },
      "source": [
        "<a href=\"https://colab.research.google.com/github/hyunj941031/ds-sa-cp2/blob/main/models/basemodel.ipynb\" target=\"_parent\"><img src=\"https://colab.research.google.com/assets/colab-badge.svg\" alt=\"Open In Colab\"/></a>"
      ]
    },
    {
      "cell_type": "code",
      "source": [
        "!pip install python-box"
      ],
      "metadata": {
        "colab": {
          "base_uri": "https://localhost:8080/"
        },
        "id": "F8eF2lL5Y9my",
        "outputId": "8f5fdb9d-b275-476b-e12e-770ed9a3c43b"
      },
      "execution_count": 1,
      "outputs": [
        {
          "output_type": "stream",
          "name": "stdout",
          "text": [
            "Looking in indexes: https://pypi.org/simple, https://us-python.pkg.dev/colab-wheels/public/simple/\n",
            "Requirement already satisfied: python-box in /usr/local/lib/python3.8/dist-packages (7.0.0)\n"
          ]
        }
      ]
    },
    {
      "cell_type": "code",
      "execution_count": 2,
      "metadata": {
        "id": "l52ZQ9tEBfln"
      },
      "outputs": [],
      "source": [
        "import numpy as np\n",
        "import pandas as pd\n",
        "import os\n",
        "\n",
        "import torch\n",
        "import torch.nn as nn\n",
        "import torch.optim as optim\n",
        "import torch.utils.data as data\n",
        "from collections import defaultdict\n",
        "from box import Box\n",
        "\n",
        "\n",
        "import warnings\n",
        "\n",
        "warnings.filterwarnings(action='ignore')"
      ]
    },
    {
      "cell_type": "code",
      "source": [
        "config = {\n",
        "    'data_path' : '/content/drive/MyDrive/fashion_campus_dataset',\n",
        "    'model_path' : './',\n",
        "    'model' : 'baseline'\n",
        "}\n",
        "\n",
        "args = {\n",
        "    \"batch_size\": 128,\n",
        "    \"epochs\": 10,\n",
        "    \"num_factor\": 32,\n",
        "    \"lr\": 0.001,\n",
        "    \"num_layers\": 3,\n",
        "    \"num_ng\": 2,\n",
        "    \"out\": True,\n",
        "    \"test_num_ng\": 99,\n",
        "    \"top_k\": 10,\n",
        "}\n",
        "\n",
        "config = Box(config)"
      ],
      "metadata": {
        "id": "mqdjsP64Kb-_"
      },
      "execution_count": 3,
      "outputs": []
    },
    {
      "cell_type": "code",
      "source": [
        "class SplitData():\n",
        "    def __init__(self, config):\n",
        "        self.config = config\n",
        "        self.df = pd.read_csv(os.path.join(self.config.data_path, 'user_item.csv'), index_col=0)\n",
        "        self.df = self.delete_ones()\n",
        "\n",
        "        self.item_encoder, self.item_decoder = self.generate_encoder_decoder('itemId')\n",
        "        self.user_encoder, self.user_decoder = self.generate_encoder_decoder('userId')\n",
        "        self.num_item, self.num_user = len(self.item_encoder), len(self.user_encoder)\n",
        "\n",
        "        self.df['item_idx'] = self.df['itemId'].apply(lambda x : self.item_encoder[x] + 1)\n",
        "        self.df['user_idx'] = self.df['userId'].apply(lambda x : self.user_encoder[x])\n",
        "        self.df = self.df.sort_values(['user_idx', 'timestamp'])\n",
        "        self.user_train, self.user_valid = self.split_sequence_data()\n",
        "\n",
        "    def generate_encoder_decoder(self, col:str) -> dict:\n",
        "        encoder = {}\n",
        "        decoder = {}\n",
        "        ids = self.df[col].unique()\n",
        "\n",
        "        for idx, _id in enumerate(ids):\n",
        "            encoder[_id] = idx\n",
        "            decoder[idx] = _id\n",
        "\n",
        "        return encoder, decoder\n",
        "\n",
        "    def delete_ones(self) -> dict:\n",
        "        a = self.df.groupby('userId')['itemId'].size()\n",
        "        for i in a.index:\n",
        "            if a[i] <= 1:\n",
        "                del(a[i])\n",
        "        df_ = self.df.copy()\n",
        "        df_ = df_[df_['userId'].isin(a.index)]\n",
        "        \n",
        "        return df_\n",
        "\n",
        "    def split_sequence_data(self) -> dict:\n",
        "        users = defaultdict(list)\n",
        "        user_train = {}\n",
        "        user_valid = {}\n",
        "        group_df = self.df.groupby('user_idx')\n",
        "        for user, item in group_df:\n",
        "            users[user].extend(item['item_idx'].tolist())\n",
        "\n",
        "        for user in users:\n",
        "            user_train[user] = users[user][:-1]\n",
        "            user_valid[user] = [users[user][-1]] # 마지막 아이템 예측\n",
        "\n",
        "        return user_train, user_valid\n",
        "\n",
        "    def get_train_valid_data(self):\n",
        "        return self.user_train, self.user_valid\n",
        "\n",
        "split_data = SplitData(config)\n",
        "train_df, val_df = split_data.get_train_valid_data()"
      ],
      "metadata": {
        "id": "DJROQZ1DDbqO"
      },
      "execution_count": 4,
      "outputs": []
    },
    {
      "cell_type": "code",
      "source": [
        "train_data = []\n",
        "\n",
        "for i in range(len(train_df)):\n",
        "    for j in range(len(train_df[i])):\n",
        "        train_data.append([i,train_df[i][j]])\n",
        "\n",
        "test_data = []\n",
        "\n",
        "for i in range(len(val_df)):\n",
        "    for j in range(len(val_df[i])):\n",
        "        test_data.append([i,val_df[i][j]])"
      ],
      "metadata": {
        "id": "rE2edCDsZZGb"
      },
      "execution_count": 5,
      "outputs": []
    },
    {
      "cell_type": "code",
      "source": [
        "train_li = []\n",
        "for i in range(len(train_df)):\n",
        "    train_li.extend(train_df[i])"
      ],
      "metadata": {
        "id": "qSeLBE1Tbyy0"
      },
      "execution_count": 6,
      "outputs": []
    },
    {
      "cell_type": "code",
      "source": [
        "df = split_data.df\n",
        "num_user = df['userId'].nunique()\n",
        "num_item = df['itemId'].nunique()"
      ],
      "metadata": {
        "id": "03z1r21qh4lz"
      },
      "execution_count": 7,
      "outputs": []
    },
    {
      "cell_type": "code",
      "source": [
        "train_count = [0]*(num_item+1)\n",
        "for i in train_li:\n",
        "    train_count[i] += 1\n",
        "train_count.index(max(train_count))"
      ],
      "metadata": {
        "colab": {
          "base_uri": "https://localhost:8080/"
        },
        "id": "EQcTHdJ5hlSE",
        "outputId": "a1aa43ea-a1b6-4e35-b29f-df6181c33aa1"
      },
      "execution_count": 10,
      "outputs": [
        {
          "output_type": "execute_result",
          "data": {
            "text/plain": [
              "30849"
            ]
          },
          "metadata": {},
          "execution_count": 10
        }
      ]
    },
    {
      "cell_type": "code",
      "source": [
        "def hit(gt_item, pred_items):\n",
        "    if gt_item in pred_items:\n",
        "        return 1\n",
        "    return 0\n",
        "\n",
        "\n",
        "def ndcg(gt_item, pred_items):\n",
        "    if gt_item in pred_items:\n",
        "        index = pred_items.index(gt_item)\n",
        "        return np.reciprocal(np.log2(index + 2))\n",
        "    return 0\n",
        "\n",
        "\n",
        "def metrics(test_loader, train_count, top_k):\n",
        "    HR, NDCG = [], []\n",
        "\n",
        "    for user, item in test_loader:\n",
        "        user = user # .cuda()\n",
        "        item = item # .cuda()\n",
        "\n",
        "        recommends = [train_count.index(max(train_count))]\n",
        "        # 정답값 선택\n",
        "        gt_item = item[0].item()\n",
        "        HR.append(hit(gt_item, recommends))\n",
        "        NDCG.append(ndcg(gt_item, recommends))\n",
        "\n",
        "    return np.mean(HR), np.mean(NDCG)"
      ],
      "metadata": {
        "id": "1j5zM_dZEVqb"
      },
      "execution_count": 54,
      "outputs": []
    },
    {
      "cell_type": "code",
      "source": [
        "test_loader = data.DataLoader(test_data)"
      ],
      "metadata": {
        "id": "cdS8CJXagfFY"
      },
      "execution_count": 55,
      "outputs": []
    },
    {
      "cell_type": "code",
      "source": [
        "HR, NDCG = metrics(test_loader, train_count, args[\"top_k\"])"
      ],
      "metadata": {
        "id": "RSJ9Tzfgk94W"
      },
      "execution_count": 56,
      "outputs": []
    },
    {
      "cell_type": "code",
      "source": [
        "# Hit rate @ 10, NDCG @ 10\n",
        "HR, NDCG"
      ],
      "metadata": {
        "colab": {
          "base_uri": "https://localhost:8080/"
        },
        "id": "YiVemfaarzmW",
        "outputId": "17e91788-9e3e-4ade-dc1a-c3022163fd0e"
      },
      "execution_count": 59,
      "outputs": [
        {
          "output_type": "execute_result",
          "data": {
            "text/plain": [
              "(2.367928772702517e-05, 2.367928772702517e-05)"
            ]
          },
          "metadata": {},
          "execution_count": 59
        }
      ]
    },
    {
      "cell_type": "code",
      "source": [],
      "metadata": {
        "id": "OoPLGeqmsnvT"
      },
      "execution_count": null,
      "outputs": []
    }
  ]
}